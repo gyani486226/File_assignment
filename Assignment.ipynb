{
 "cells": [
  {
   "cell_type": "code",
   "execution_count": 1,
   "id": "995572c4-2f56-4d3e-9aa0-6ad4ae26baae",
   "metadata": {},
   "outputs": [],
   "source": [
    "#4. Write a Python program using multithreading where one thread adds numbers to a list, and another\n",
    "#thread removes numbers from the list. Implement a mechanism to avoid race conditions using\n",
    "#threading.Lock."
   ]
  },
  {
   "cell_type": "code",
   "execution_count": 5,
   "id": "e1b36008-4ac9-429b-856f-2e9059e5e84d",
   "metadata": {},
   "outputs": [
    {
     "name": "stdout",
     "output_type": "stream",
     "text": [
      "Added 0 to the list. Current list: [0]\n",
      "Removed 0 from the list. Current list: []\n",
      "Added 1 to the list. Current list: [1]\n",
      "Removed 1 from the list. Current list: []\n",
      "Added 2 to the list. Current list: [2]\n",
      "Added 3 to the list. Current list: [2, 3]\n",
      "Removed 2 from the list. Current list: [3]\n",
      "Added 4 to the list. Current list: [3, 4]\n",
      "Removed 3 from the list. Current list: [4]\n",
      "Added 5 to the list. Current list: [4, 5]\n",
      "Added 6 to the list. Current list: [4, 5, 6]\n",
      "Removed 4 from the list. Current list: [5, 6]\n",
      "Added 7 to the list. Current list: [5, 6, 7]\n",
      "Removed 5 from the list. Current list: [6, 7]\n",
      "Added 8 to the list. Current list: [6, 7, 8]\n",
      "Added 9 to the list. Current list: [6, 7, 8, 9]\n",
      "Removed 6 from the list. Current list: [7, 8, 9]\n",
      "Removed 7 from the list. Current list: [8, 9]\n",
      "Removed 8 from the list. Current list: [9]\n",
      "Removed 9 from the list. Current list: []\n",
      "Final list: []\n"
     ]
    }
   ],
   "source": [
    "import threading\n",
    "import time\n",
    "\n",
    "# Shared list\n",
    "numbers = []\n",
    "\n",
    "# Lock object to synchronize threads\n",
    "counter_lock = threading.Lock()\n",
    "\n",
    "def add_numbers():\n",
    "    for i in range(10):\n",
    "        time.sleep(1)  # Simulate some delay\n",
    "        with counter_lock:\n",
    "            numbers.append(i)\n",
    "            print(f\"Added {i} to the list. Current list: {numbers}\")\n",
    "\n",
    "def remove_numbers():\n",
    "    for i in range(10):\n",
    "        time.sleep(1.5)  # Simulate some delay\n",
    "        with counter_lock:\n",
    "            if numbers:\n",
    "                removed = numbers.pop(0)\n",
    "                print(f\"Removed {removed} from the list. Current list: {numbers}\")\n",
    "\n",
    "# Create threads\n",
    "t1 = threading.Thread(target=add_numbers)\n",
    "t2 = threading.Thread(target=remove_numbers)\n",
    "\n",
    "# Start threads\n",
    "t1.start()\n",
    "t2.start()\n",
    "\n",
    "# Wait for threads to complete\n",
    "t1.join()\n",
    "t2.join()\n",
    "\n",
    "print(\"Final list:\", numbers)\n"
   ]
  },
  {
   "cell_type": "code",
   "execution_count": null,
   "id": "d1fccd20-761b-4af1-b36e-d3a744ea5a9f",
   "metadata": {},
   "outputs": [],
   "source": []
  },
  {
   "cell_type": "code",
   "execution_count": 88,
   "id": "1e4f1f63-7585-4cc3-be44-927868ab5a22",
   "metadata": {},
   "outputs": [],
   "source": [
    "#7. Create a program that uses a thread pool to calculate the factorial of numbers from 1 to 10 concurrently.\n",
    "# Use concurrent.futures.ThreadPoolExecutor to manage the threads.\n",
    "\n",
    "\n",
    "\n",
    "import time \n",
    "import threading\n",
    "\n",
    "start = time.perf_counter()\n",
    "def func_factorial(number):\n",
    "    num = 1\n",
    "    \n",
    "    for i in range(1, number+1):\n",
    "        num =  (number*num)\n",
    "        number-=1\n",
    "    print(num)        "
   ]
  },
  {
   "cell_type": "code",
   "execution_count": 92,
   "id": "4bae1062-84ca-4545-9d70-8421e39a38f0",
   "metadata": {},
   "outputs": [
    {
     "name": "stdout",
     "output_type": "stream",
     "text": [
      "3628800\n"
     ]
    }
   ],
   "source": [
    "func_factorial(10)\n"
   ]
  },
  {
   "cell_type": "code",
   "execution_count": 1,
   "id": "9ab4d716-38ad-4af5-8f14-3487fff3ed3c",
   "metadata": {},
   "outputs": [
    {
     "name": "stdout",
     "output_type": "stream",
     "text": [
      "Factorial of 1 is 1Factorial of 2 is 2\n",
      "\n",
      "Factorial of 3 is 6\n",
      "Factorial of 4 is 24\n",
      "Factorial of 5 is 120\n",
      "Factorial of 6 is 720\n",
      "Factorial of 7 is 5040\n",
      "Factorial of 8 is 40320\n",
      "Factorial of 9 is 362880\n",
      "Factorial of 10 is 3628800\n",
      "The program finished in 0.04 seconds\n"
     ]
    }
   ],
   "source": [
    "import time\n",
    "import concurrent.futures\n",
    "\n",
    "start = time.perf_counter()\n",
    "\n",
    "def func_factorial(number):\n",
    "    result = 1\n",
    "    for i in range(1, number + 1):\n",
    "        result *= i\n",
    "    print(f\"Factorial of {number} is {result}\")\n",
    "\n",
    "# Use ThreadPoolExecutor to manage the threads\n",
    "with concurrent.futures.ThreadPoolExecutor() as executor:\n",
    "    numbers = list(range(1, 11))  # Numbers from 1 to 10\n",
    "    executor.map(func_factorial, numbers)\n",
    "\n",
    "end = time.perf_counter()\n",
    "print(f\"The program finished in {round(end - start, 2)} seconds\")\n"
   ]
  },
  {
   "cell_type": "code",
   "execution_count": null,
   "id": "19fd59d3-3439-4732-8b4b-aa4caa0bef64",
   "metadata": {},
   "outputs": [],
   "source": []
  },
  {
   "cell_type": "code",
   "execution_count": 18,
   "id": "9682dfd1-0896-401a-af67-87407e98a87a",
   "metadata": {},
   "outputs": [
    {
     "name": "stdout",
     "output_type": "stream",
     "text": [
      "[1, 2, 3, 4, 5]\n",
      " The program finished in 1.05 seconds\n"
     ]
    }
   ],
   "source": [
    "#8. Create a Python program that uses multiprocessing.Pool to compute the square of numbers from 1 to 10 in\n",
    "#parallel. Measure the time taken to perform this computation using a pool of different sizes (e.g., 2, 4, 8\n",
    "#processes).\n",
    "\n",
    "import time\n",
    "import multiprocessing\n",
    "start = time.perf_counter()\n",
    "\n",
    "def square(index, value):\n",
    "    value[index] = value[index] ** 2\n",
    "\n",
    "arr = multiprocessing.Array('i', [1, 2, 3, 4, 5])\n",
    "processes = []\n",
    "\n",
    "for i  in range(5):\n",
    "    p = multiprocessing.Process(target = square, args = (1, arr))\n",
    "    p.start()\n",
    "    processes.append(p)\n",
    "\n",
    "for process in processes:\n",
    "    process.join()\n",
    "\n",
    "print(list(arr))\n",
    "\n",
    "end = time.perf_counter()\n",
    "print(f\" The program finished in {round(end-start, 2)} seconds\")\n",
    "    "
   ]
  },
  {
   "cell_type": "code",
   "execution_count": null,
   "id": "7d00276f-a604-4fa1-9b23-04f9a5621b8b",
   "metadata": {},
   "outputs": [],
   "source": []
  }
 ],
 "metadata": {
  "kernelspec": {
   "display_name": "Python 3 (ipykernel)",
   "language": "python",
   "name": "python3"
  },
  "language_info": {
   "codemirror_mode": {
    "name": "ipython",
    "version": 3
   },
   "file_extension": ".py",
   "mimetype": "text/x-python",
   "name": "python",
   "nbconvert_exporter": "python",
   "pygments_lexer": "ipython3",
   "version": "3.12.4"
  }
 },
 "nbformat": 4,
 "nbformat_minor": 5
}
